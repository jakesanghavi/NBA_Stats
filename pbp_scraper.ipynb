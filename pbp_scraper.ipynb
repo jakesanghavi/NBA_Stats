{
 "cells": [
  {
   "cell_type": "code",
   "execution_count": null,
   "id": "15f71b86",
   "metadata": {
    "vscode": {
     "languageId": "plaintext"
    }
   },
   "outputs": [],
   "source": [
    "import data_utils\n",
    "from wakepy import keep\n",
    "\n",
    "year = 2025\n",
    "\n",
    "with keep.presenting():\n",
    "    data_utils.get_all_data(year, espn=True)"
   ]
  }
 ],
 "metadata": {
  "language_info": {
   "name": "python"
  }
 },
 "nbformat": 4,
 "nbformat_minor": 5
}
